{
 "cells": [
  {
   "cell_type": "code",
   "execution_count": 13,
   "metadata": {},
   "outputs": [
    {
     "name": "stderr",
     "output_type": "stream",
     "text": [
      "/Users/yofrosty/Desktop/learn_jax/.conda/lib/python3.11/pty.py:89: RuntimeWarning: os.fork() was called. os.fork() is incompatible with multithreaded code, and JAX is multithreaded, so this will likely lead to a deadlock.\n",
      "  pid, fd = os.forkpty()\n"
     ]
    },
    {
     "name": "stdout",
     "output_type": "stream",
     "text": [
      "Requirement already satisfied: jax in ./.conda/lib/python3.11/site-packages (0.4.35)\n",
      "Requirement already satisfied: jaxlib in ./.conda/lib/python3.11/site-packages (0.4.35)\n",
      "Requirement already satisfied: tensorflow in ./.conda/lib/python3.11/site-packages (2.18.0)\n",
      "Requirement already satisfied: tensorflow_datasets in ./.conda/lib/python3.11/site-packages (4.9.7)\n",
      "Requirement already satisfied: ml-dtypes>=0.4.0 in ./.conda/lib/python3.11/site-packages (from jax) (0.4.1)\n",
      "Requirement already satisfied: numpy>=1.24 in ./.conda/lib/python3.11/site-packages (from jax) (2.0.2)\n",
      "Requirement already satisfied: opt-einsum in ./.conda/lib/python3.11/site-packages (from jax) (3.4.0)\n",
      "Requirement already satisfied: scipy>=1.10 in ./.conda/lib/python3.11/site-packages (from jax) (1.14.1)\n",
      "Requirement already satisfied: absl-py>=1.0.0 in ./.conda/lib/python3.11/site-packages (from tensorflow) (2.1.0)\n",
      "Requirement already satisfied: astunparse>=1.6.0 in ./.conda/lib/python3.11/site-packages (from tensorflow) (1.6.3)\n",
      "Requirement already satisfied: flatbuffers>=24.3.25 in ./.conda/lib/python3.11/site-packages (from tensorflow) (24.3.25)\n",
      "Requirement already satisfied: gast!=0.5.0,!=0.5.1,!=0.5.2,>=0.2.1 in ./.conda/lib/python3.11/site-packages (from tensorflow) (0.6.0)\n",
      "Requirement already satisfied: google-pasta>=0.1.1 in ./.conda/lib/python3.11/site-packages (from tensorflow) (0.2.0)\n",
      "Requirement already satisfied: libclang>=13.0.0 in ./.conda/lib/python3.11/site-packages (from tensorflow) (18.1.1)\n",
      "Requirement already satisfied: packaging in ./.conda/lib/python3.11/site-packages (from tensorflow) (24.1)\n",
      "Requirement already satisfied: protobuf!=4.21.0,!=4.21.1,!=4.21.2,!=4.21.3,!=4.21.4,!=4.21.5,<6.0.0dev,>=3.20.3 in ./.conda/lib/python3.11/site-packages (from tensorflow) (5.28.3)\n",
      "Requirement already satisfied: requests<3,>=2.21.0 in ./.conda/lib/python3.11/site-packages (from tensorflow) (2.32.3)\n",
      "Requirement already satisfied: setuptools in ./.conda/lib/python3.11/site-packages (from tensorflow) (75.3.0)\n",
      "Requirement already satisfied: six>=1.12.0 in ./.conda/lib/python3.11/site-packages (from tensorflow) (1.16.0)\n",
      "Requirement already satisfied: termcolor>=1.1.0 in ./.conda/lib/python3.11/site-packages (from tensorflow) (2.5.0)\n",
      "Requirement already satisfied: typing-extensions>=3.6.6 in ./.conda/lib/python3.11/site-packages (from tensorflow) (4.12.2)\n",
      "Requirement already satisfied: wrapt>=1.11.0 in ./.conda/lib/python3.11/site-packages (from tensorflow) (1.16.0)\n",
      "Requirement already satisfied: grpcio<2.0,>=1.24.3 in ./.conda/lib/python3.11/site-packages (from tensorflow) (1.67.1)\n",
      "Requirement already satisfied: tensorboard<2.19,>=2.18 in ./.conda/lib/python3.11/site-packages (from tensorflow) (2.18.0)\n",
      "Requirement already satisfied: keras>=3.5.0 in ./.conda/lib/python3.11/site-packages (from tensorflow) (3.6.0)\n",
      "Requirement already satisfied: h5py>=3.11.0 in ./.conda/lib/python3.11/site-packages (from tensorflow) (3.12.1)\n",
      "Requirement already satisfied: tensorflow-io-gcs-filesystem>=0.23.1 in ./.conda/lib/python3.11/site-packages (from tensorflow) (0.37.1)\n",
      "Requirement already satisfied: click in ./.conda/lib/python3.11/site-packages (from tensorflow_datasets) (8.1.7)\n",
      "Requirement already satisfied: dm-tree in ./.conda/lib/python3.11/site-packages (from tensorflow_datasets) (0.1.8)\n",
      "Requirement already satisfied: immutabledict in ./.conda/lib/python3.11/site-packages (from tensorflow_datasets) (4.2.0)\n",
      "Requirement already satisfied: promise in ./.conda/lib/python3.11/site-packages (from tensorflow_datasets) (2.3)\n",
      "Requirement already satisfied: psutil in ./.conda/lib/python3.11/site-packages (from tensorflow_datasets) (6.1.0)\n",
      "Requirement already satisfied: pyarrow in ./.conda/lib/python3.11/site-packages (from tensorflow_datasets) (18.0.0)\n",
      "Requirement already satisfied: simple-parsing in ./.conda/lib/python3.11/site-packages (from tensorflow_datasets) (0.1.6)\n",
      "Requirement already satisfied: tensorflow-metadata in ./.conda/lib/python3.11/site-packages (from tensorflow_datasets) (1.16.1)\n",
      "Requirement already satisfied: toml in ./.conda/lib/python3.11/site-packages (from tensorflow_datasets) (0.10.2)\n",
      "Requirement already satisfied: tqdm in ./.conda/lib/python3.11/site-packages (from tensorflow_datasets) (4.66.6)\n",
      "Requirement already satisfied: etils>=1.9.1 in ./.conda/lib/python3.11/site-packages (from etils[edc,enp,epath,epy,etree]>=1.9.1; python_version >= \"3.11\"->tensorflow_datasets) (1.10.0)\n",
      "Requirement already satisfied: wheel<1.0,>=0.23.0 in ./.conda/lib/python3.11/site-packages (from astunparse>=1.6.0->tensorflow) (0.44.0)\n",
      "Requirement already satisfied: fsspec in ./.conda/lib/python3.11/site-packages (from etils[edc,enp,epath,epy,etree]>=1.9.1; python_version >= \"3.11\"->tensorflow_datasets) (2024.10.0)\n",
      "Requirement already satisfied: importlib_resources in ./.conda/lib/python3.11/site-packages (from etils[edc,enp,epath,epy,etree]>=1.9.1; python_version >= \"3.11\"->tensorflow_datasets) (6.4.5)\n",
      "Requirement already satisfied: zipp in ./.conda/lib/python3.11/site-packages (from etils[edc,enp,epath,epy,etree]>=1.9.1; python_version >= \"3.11\"->tensorflow_datasets) (3.20.2)\n",
      "Requirement already satisfied: rich in ./.conda/lib/python3.11/site-packages (from keras>=3.5.0->tensorflow) (13.9.4)\n",
      "Requirement already satisfied: namex in ./.conda/lib/python3.11/site-packages (from keras>=3.5.0->tensorflow) (0.0.8)\n",
      "Requirement already satisfied: optree in ./.conda/lib/python3.11/site-packages (from keras>=3.5.0->tensorflow) (0.13.0)\n",
      "Requirement already satisfied: charset-normalizer<4,>=2 in ./.conda/lib/python3.11/site-packages (from requests<3,>=2.21.0->tensorflow) (3.4.0)\n",
      "Requirement already satisfied: idna<4,>=2.5 in ./.conda/lib/python3.11/site-packages (from requests<3,>=2.21.0->tensorflow) (3.10)\n",
      "Requirement already satisfied: urllib3<3,>=1.21.1 in ./.conda/lib/python3.11/site-packages (from requests<3,>=2.21.0->tensorflow) (2.2.3)\n",
      "Requirement already satisfied: certifi>=2017.4.17 in ./.conda/lib/python3.11/site-packages (from requests<3,>=2.21.0->tensorflow) (2024.8.30)\n",
      "Requirement already satisfied: markdown>=2.6.8 in ./.conda/lib/python3.11/site-packages (from tensorboard<2.19,>=2.18->tensorflow) (3.7)\n",
      "Requirement already satisfied: tensorboard-data-server<0.8.0,>=0.7.0 in ./.conda/lib/python3.11/site-packages (from tensorboard<2.19,>=2.18->tensorflow) (0.7.2)\n",
      "Requirement already satisfied: werkzeug>=1.0.1 in ./.conda/lib/python3.11/site-packages (from tensorboard<2.19,>=2.18->tensorflow) (3.1.2)\n",
      "Requirement already satisfied: docstring-parser<1.0,>=0.15 in ./.conda/lib/python3.11/site-packages (from simple-parsing->tensorflow_datasets) (0.16)\n",
      "Requirement already satisfied: googleapis-common-protos<2,>=1.56.4 in ./.conda/lib/python3.11/site-packages (from tensorflow-metadata->tensorflow_datasets) (1.65.0)\n",
      "Requirement already satisfied: MarkupSafe>=2.1.1 in ./.conda/lib/python3.11/site-packages (from werkzeug>=1.0.1->tensorboard<2.19,>=2.18->tensorflow) (3.0.2)\n",
      "Requirement already satisfied: markdown-it-py>=2.2.0 in ./.conda/lib/python3.11/site-packages (from rich->keras>=3.5.0->tensorflow) (3.0.0)\n",
      "Requirement already satisfied: pygments<3.0.0,>=2.13.0 in ./.conda/lib/python3.11/site-packages (from rich->keras>=3.5.0->tensorflow) (2.18.0)\n",
      "Requirement already satisfied: mdurl~=0.1 in ./.conda/lib/python3.11/site-packages (from markdown-it-py>=2.2.0->rich->keras>=3.5.0->tensorflow) (0.1.2)\n",
      "Note: you may need to restart the kernel to use updated packages.\n"
     ]
    }
   ],
   "source": [
    "%pip install jax jaxlib tensorflow tensorflow_datasets\n",
    "\n",
    "import jax\n",
    "import jax.numpy as jnp\n",
    "from jax import jit\n"
   ]
  },
  {
   "cell_type": "code",
   "execution_count": 14,
   "metadata": {},
   "outputs": [],
   "source": [
    "def layer(x, w, b):\n",
    "    return jax.nn.relu(jnp.dot(x,w) + b)\n",
    "\n",
    "def output_layer(x, w, b):\n",
    "    return jax.nn.softmax(jnp.dot(x,w) + b)\n",
    "\n",
    "def mlp(x, w1, b1, w2, b2, w3, b3):\n",
    "    l1 = x.reshape(-1, 784)\n",
    "    l2 = layer(l1, w1, b1)\n",
    "    l3 = layer(l2, w2, b2)\n",
    "\n",
    "    return output_layer(l3, w3, b3)\n",
    "\n",
    "key = jax.random.PRNGKey(0)\n",
    "\n",
    "w1 = jax.random.normal(key, (784, 128))\n",
    "b1 = jax.random.normal(key, (128,))\n",
    "w2 = jax.random.normal(key, (128, 64))\n",
    "b2 = jax.random.normal(key, (64,))\n",
    "w3 = jax.random.normal(key, (64, 10))\n",
    "b3 = jax.random.normal(key, (10,))\n",
    "\n",
    "params = (w1, b1, w2, b2, w3, b3)\n",
    "\n",
    "@jit\n",
    "def loss(params, x, y):\n",
    "    logits = mlp(x, *params)\n",
    "    labels = jax.nn.one_hot(y, 10)\n",
    "    return -jnp.mean(jnp.sum(labels * jnp.log(logits + 1e-8), axis=1))"
   ]
  },
  {
   "cell_type": "code",
   "execution_count": 15,
   "metadata": {},
   "outputs": [],
   "source": [
    "import tensorflow_datasets as tfds\n",
    "import tensorflow as tf\n",
    "\n",
    "def prepare_data():\n",
    "    train_ds = tfds.load('mnist', split='train', as_supervised=True)\n",
    "    test_ds = tfds.load('mnist', split='test', as_supervised=True)\n",
    "\n",
    "    def normalize(images, labels):\n",
    "        images = tf.cast(images, tf.float32) / 255.0\n",
    "        return images, labels\n",
    "\n",
    "    train_ds = train_ds.map(normalize).batch(32).prefetch(1)\n",
    "    test_ds = test_ds.map(normalize).batch(32)\n",
    "\n",
    "    return tfds.as_numpy(train_ds), tfds.as_numpy(test_ds)"
   ]
  },
  {
   "cell_type": "code",
   "execution_count": 16,
   "metadata": {},
   "outputs": [
    {
     "name": "stderr",
     "output_type": "stream",
     "text": [
      "/var/folders/ml/dm9gsfs15713k5xj94k994lr0000gp/T/ipykernel_33176/224423806.py:10: DeprecationWarning: jax.tree_map is deprecated: use jax.tree.map (jax v0.4.25 or newer) or jax.tree_util.tree_map (any JAX version).\n",
      "  params = jax.tree_map(lambda p, g: p - LEARNING_RATE * g, params, grads)\n"
     ]
    },
    {
     "name": "stdout",
     "output_type": "stream",
     "text": [
      "Epoch 1 loss: 6.98144006729126, accuracy: 0.5\n",
      "Epoch 2 loss: 6.3321099281311035, accuracy: 0.5\n",
      "Epoch 3 loss: 6.907756328582764, accuracy: 0.5\n",
      "Epoch 4 loss: 6.3321099281311035, accuracy: 0.5\n",
      "Epoch 5 loss: 6.3321099281311035, accuracy: 0.5\n",
      "Epoch 6 loss: 6.907756328582764, accuracy: 0.5\n",
      "Epoch 7 loss: 6.3321099281311035, accuracy: 0.5\n",
      "Epoch 8 loss: 6.3321099281311035, accuracy: 0.5\n",
      "Epoch 9 loss: 5.756463527679443, accuracy: 0.5\n",
      "Epoch 10 loss: 6.3321099281311035, accuracy: 0.5\n",
      "Epoch 11 loss: 5.756463527679443, accuracy: 0.5\n",
      "Epoch 12 loss: 5.180817127227783, accuracy: 0.625\n",
      "Epoch 13 loss: 4.029524326324463, accuracy: 0.625\n",
      "Epoch 14 loss: 3.4701433181762695, accuracy: 0.625\n",
      "Epoch 15 loss: 4.029524326324463, accuracy: 0.625\n",
      "Epoch 16 loss: 4.029524326324463, accuracy: 0.625\n",
      "Epoch 17 loss: 4.605170726776123, accuracy: 0.5625\n",
      "Epoch 18 loss: 4.029524326324463, accuracy: 0.625\n",
      "Epoch 19 loss: 4.029514312744141, accuracy: 0.625\n",
      "Epoch 20 loss: 4.605170726776123, accuracy: 0.625\n",
      "Epoch 21 loss: 4.029536724090576, accuracy: 0.5625\n",
      "Epoch 22 loss: 2.8782315254211426, accuracy: 0.8125\n",
      "Epoch 23 loss: 3.4538779258728027, accuracy: 0.875\n",
      "Epoch 24 loss: 1.7269388437271118, accuracy: 0.875\n",
      "Epoch 25 loss: 1.7269388437271118, accuracy: 0.875\n",
      "Epoch 26 loss: 2.3025851249694824, accuracy: 0.8125\n",
      "Epoch 27 loss: 2.8303394317626953, accuracy: 0.875\n",
      "Epoch 28 loss: 2.8782308101654053, accuracy: 0.8125\n",
      "Epoch 29 loss: 2.8782315254211426, accuracy: 0.8125\n",
      "Epoch 30 loss: 2.3025851249694824, accuracy: 0.8125\n"
     ]
    }
   ],
   "source": [
    "EPOCHS = 30\n",
    "LEARNING_RATE = 0.03\n",
    "\n",
    "train_ds, test_ds = prepare_data()\n",
    "\n",
    "for epoch in range(EPOCHS):\n",
    "    for x, y in train_ds:\n",
    "        loss_val = loss(params, x, y)\n",
    "        grads = jax.grad(loss)(params, x, y)\n",
    "        params = jax.tree_map(lambda p, g: p - LEARNING_RATE * g, params, grads)\n",
    "\n",
    "    for x, y in test_ds:\n",
    "        logits = mlp(x, *params)\n",
    "        preds = jax.nn.one_hot(jnp.argmax(logits, axis=1), 10)\n",
    "\n",
    "        acc = jnp.mean(jnp.argmax(preds, axis=1) == y)\n",
    "\n",
    "    print(f\"Epoch {epoch + 1} loss: {loss_val}, accuracy: {acc}\")\n"
   ]
  }
 ],
 "metadata": {
  "kernelspec": {
   "display_name": "Python 3",
   "language": "python",
   "name": "python3"
  },
  "language_info": {
   "codemirror_mode": {
    "name": "ipython",
    "version": 3
   },
   "file_extension": ".py",
   "mimetype": "text/x-python",
   "name": "python",
   "nbconvert_exporter": "python",
   "pygments_lexer": "ipython3",
   "version": "3.11.10"
  }
 },
 "nbformat": 4,
 "nbformat_minor": 2
}
